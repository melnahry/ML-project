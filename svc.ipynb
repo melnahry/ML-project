{
  "nbformat": 4,
  "nbformat_minor": 0,
  "metadata": {
    "colab": {
      "provenance": [],
      "gpuType": "T4"
    },
    "kernelspec": {
      "name": "python3",
      "display_name": "Python 3"
    },
    "language_info": {
      "name": "python"
    },
    "accelerator": "GPU"
  },
  "cells": [
    {
      "cell_type": "code",
      "source": [
        "from google.colab import drive\n",
        "drive.mount('/content/drive')"
      ],
      "metadata": {
        "colab": {
          "base_uri": "https://localhost:8080/"
        },
        "id": "fe86DQKBP7UN",
        "outputId": "1d45c46e-8f3c-4866-c3fb-a4a5f187e5f8"
      },
      "execution_count": 73,
      "outputs": [
        {
          "output_type": "stream",
          "name": "stdout",
          "text": [
            "Drive already mounted at /content/drive; to attempt to forcibly remount, call drive.mount(\"/content/drive\", force_remount=True).\n"
          ]
        }
      ]
    },
    {
      "cell_type": "code",
      "execution_count": 74,
      "metadata": {
        "id": "8QQHQ1WjNKx6"
      },
      "outputs": [],
      "source": [
        "import os\n",
        "import cv2\n",
        "import numpy as np\n",
        "import matplotlib.pyplot as plt\n",
        "import seaborn as sns\n",
        "from sklearn.svm import SVC\n",
        "from sklearn.decomposition import PCA\n",
        "from sklearn.model_selection import GridSearchCV\n",
        "from sklearn.metrics import accuracy_score, confusion_matrix, classification_report\n",
        "from sklearn.utils import shuffle\n",
        "from keras.preprocessing.image import ImageDataGenerator\n",
        "from imblearn.over_sampling import SMOTE\n"
      ]
    },
    {
      "cell_type": "code",
      "source": [
        "# Function to load and process images from a specified folder\n",
        "def load_images(folder_path, image_size):\n",
        "    images = []\n",
        "    for filename in os.listdir(folder_path):\n",
        "        image = cv2.imread(os.path.join(folder_path, filename))\n",
        "        if image is not None:\n",
        "            # Convert to grayscale and resize\n",
        "            gray_image = cv2.cvtColor(image, cv2.COLOR_BGR2GRAY)\n",
        "            resized_image = cv2.resize(gray_image, (image_size, image_size))\n",
        "            images.append(resized_image.flatten())  # Flatten to 1D array for modeling\n",
        "    return images\n"
      ],
      "metadata": {
        "id": "NCplGuUuI5-C"
      },
      "execution_count": 75,
      "outputs": []
    },
    {
      "cell_type": "code",
      "source": [
        "# Function to prepare training and testing datasets\n",
        "def preprocess_data(data_path, image_size):\n",
        "    training_data = {}\n",
        "    testing_data = {}\n",
        "    # Load images for each tumor type\n",
        "    for tumor_type in ['pituitary_tumor', 'meningioma_tumor', 'glioma_tumor', 'no_tumor']:\n",
        "        training_images = load_images(os.path.join(data_path, 'Training', tumor_type), image_size)\n",
        "        testing_images = load_images(os.path.join(data_path, 'Testing', tumor_type), image_size)\n",
        "        training_data[tumor_type] = training_images\n",
        "        testing_data[tumor_type] = testing_images\n",
        "    return training_data, testing_data\n",
        "\n",
        "# Define the data path and image size\n",
        "data_path = '/content/drive/MyDrive/dataset'  # Adjust to your data path\n",
        "image_size = 128  # Example image size (128 x 128 pixels)\n",
        "\n",
        "# Preprocess the data\n",
        "training_data, testing_data = preprocess_data(data_path, image_size)\n"
      ],
      "metadata": {
        "id": "kKXBzi_aI9Pd"
      },
      "execution_count": 76,
      "outputs": []
    },
    {
      "cell_type": "code",
      "source": [
        "# Function to extract features using Histogram of Oriented Gradients (HOG)\n",
        "def extract_features(image, image_size):\n",
        "    reshaped_image = np.reshape(image, (image_size, image_size))\n",
        "    # Example using Histogram of Oriented Gradients\n",
        "    features = hog(\n",
        "        reshaped_image,\n",
        "        pixels_per_cell=(8, 8),\n",
        "        cells_per_block=(2, 2),\n",
        "        visualize=False\n",
        "    )\n",
        "    return features\n",
        "\n",
        "# Apply feature extraction and PCA to the training data\n",
        "training_features = []\n",
        "training_labels = []\n",
        "for tumor_type, images in training_data.items():\n",
        "    features = [extract_features(image, image_size) for image in images]\n",
        "    training_features.extend(features)\n",
        "    training_labels.extend([tumor_type] * len(features))\n",
        "\n",
        "# Apply PCA to reduce dimensionality\n",
        "pca = PCA(n_components=50)  # Adjust as needed\n",
        "training_features_reduced = pca.fit_transform(training_features)\n"
      ],
      "metadata": {
        "id": "UrMneWv6DJUE"
      },
      "execution_count": 77,
      "outputs": []
    },
    {
      "cell_type": "code",
      "source": [
        "# Create an image data generator for basic data augmentation\n",
        "data_gen = ImageDataGenerator(\n",
        "    rotation_range=10,  # Small rotation to avoid excessive distortion\n",
        "    width_shift_range=0.1,  # Horizontal shift\n",
        "    height_shift_range=0.1,  # Vertical shift\n",
        "    shear_range=0.1,  # Shear transformation\n",
        "    zoom_range=0.1,  # Small zoom\n",
        "    horizontal_flip=True  # Flip the image horizontally\n",
        ")\n",
        "\n",
        "# Apply data augmentation to the training dataset\n",
        "augmented_training_images = []\n",
        "augmented_training_labels = []\n",
        "\n",
        "for tumor_type, images in training_data.items():\n",
        "    for image in images:\n",
        "        # Ensure the image has the correct 4D shape (batch_size, height, width, channels)\n",
        "        reshaped_image = np.reshape(image, (image_size, image_size, 1))  # Add channel dimension\n",
        "        reshaped_image = np.expand_dims(reshaped_image, axis=0)  # Add batch dimension\n",
        "\n",
        "        # Generate augmented images (example: 3 augmentations to avoid long runtime)\n",
        "        flow = data_gen.flow(\n",
        "            reshaped_image,\n",
        "            batch_size=1,\n",
        "            seed=42  # Ensure consistent results across runs\n",
        "        )\n",
        "\n",
        "        augmented_images = [next(flow)[0].flatten() for _ in range(5)]  # 3 augmentations per image\n",
        "        augmented_training_images.extend(augmented_images)\n",
        "        augmented_training_labels.extend([tumor_type] * len(augmented_images))  # Corresponding labels"
      ],
      "metadata": {
        "id": "-mapO83gKG10"
      },
      "execution_count": 78,
      "outputs": []
    },
    {
      "cell_type": "code",
      "source": [
        "# Apply SMOTE for class balancing\n",
        "smote = SMOTE()\n",
        "X_resampled, y_resampled = smote.fit_resample(training_features_reduced, training_labels)\n"
      ],
      "metadata": {
        "id": "DF1xRfTLHgUz"
      },
      "execution_count": 79,
      "outputs": []
    },
    {
      "cell_type": "code",
      "source": [
        "# Train a classifier with hyperparameter tuning\n",
        "param_grid = {\n",
        "    'kernel': ['linear', 'rbf'],  # Different kernels to experiment with\n",
        "    'C': [0.1, 1, 10, 100],  # Regularization strength\n",
        "    'gamma': ['scale', 'auto']  # For non-linear kernels like RBF\n",
        "}\n",
        "\n",
        "# Apply GridSearchCV to find the best parameters\n",
        "grid_search = GridSearchCV(\n",
        "    SVC(),\n",
        "    param_grid,\n",
        "    scoring='accuracy',\n",
        "    cv=5  # Cross-validation\n",
        ")\n",
        "\n",
        "grid_search.fit(X_resampled, y_resampled)  # Fit the classifier with resampled data\n",
        "classifier = grid_search.best_estimator_  # Get the best classifier from the grid search\n",
        "\n",
        "print(\"Best parameters:\", grid_search.best_params_)  # Display the best hyperparameters\n"
      ],
      "metadata": {
        "id": "TvfFIwEk-5sp",
        "colab": {
          "base_uri": "https://localhost:8080/"
        },
        "outputId": "d230571f-e38b-4a44-e6c4-ef469f89862c"
      },
      "execution_count": 80,
      "outputs": [
        {
          "output_type": "stream",
          "name": "stdout",
          "text": [
            "Best parameters: {'C': 100, 'gamma': 'scale', 'kernel': 'rbf'}\n"
          ]
        }
      ]
    },
    {
      "cell_type": "code",
      "source": [
        "# Apply feature extraction and PCA to the testing data\n",
        "testing_features = []\n",
        "testing_labels = []\n",
        "\n",
        "for tumor_type, images in testing_data.items():\n",
        "    features = [extract_features(image, image_size) for image in images]\n",
        "    reduced_features = pca.transform(features)  # Apply the same PCA transformation\n",
        "    testing_features.extend(reduced_features)\n",
        "    testing_labels.extend([tumor_type] * len(reduced_features))\n",
        "\n",
        "# Predict using the trained classifier\n",
        "predictions = classifier.predict(testing_features)\n",
        "\n",
        "# Calculate accuracy\n",
        "accuracy = accuracy_score(testing_labels, predictions)\n",
        "print(\"Test Accuracy:\", accuracy*100,'%')\n",
        "\n",
        "# Generate a confusion matrix\n",
        "conf_matrix = confusion_matrix(testing_labels, predictions)\n",
        "sns.heatmap(conf_matrix, annot=True, fmt='d', cmap='Blues', xticklabels=['Pituitary', 'Meningioma', 'Glioma', 'No Tumor'], yticklabels=['Pituitary', 'Meningioma', 'Glioma', 'No Tumor'])\n",
        "plt.xlabel('Predicted')\n",
        "plt.ylabel('True')\n",
        "plt.title('Confusion Matrix')\n",
        "plt.show()\n",
        "\n",
        "# Print a detailed classification report\n",
        "classification_report_str = classification_report(testing_labels, predictions, target_names=['Pituitary', 'Meningioma', 'Glioma', 'No Tumor'])\n",
        "print(\"Classification Report:\")\n",
        "print(classification_report_str)\n"
      ],
      "metadata": {
        "id": "qsWOgFnSk5Nz",
        "colab": {
          "base_uri": "https://localhost:8080/",
          "height": 698
        },
        "outputId": "67f2e3f5-004c-4ba0-bd5c-a890932cfe61"
      },
      "execution_count": 81,
      "outputs": [
        {
          "output_type": "stream",
          "name": "stdout",
          "text": [
            "Test Accuracy: 76.39593908629442 %\n"
          ]
        },
        {
          "output_type": "display_data",
          "data": {
            "text/plain": [
              "<Figure size 640x480 with 2 Axes>"
            ],
            "image/png": "[encoded data removed]"
          },
          "metadata": {}
        },
        {
          "output_type": "stream",
          "name": "stdout",
          "text": [
            "Classification Report:\n",
            "              precision    recall  f1-score   support\n",
            "\n",
            "   Pituitary       1.00      0.18      0.31       100\n",
            "  Meningioma       0.70      0.97      0.81       115\n",
            "      Glioma       0.70      1.00      0.83       105\n",
            "    No Tumor       1.00      0.89      0.94        74\n",
            "\n",
            "    accuracy                           0.76       394\n",
            "   macro avg       0.85      0.76      0.72       394\n",
            "weighted avg       0.83      0.76      0.71       394\n",
            "\n"
          ]
        }
      ]
    }
  ]
}