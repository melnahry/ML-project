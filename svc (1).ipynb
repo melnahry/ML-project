{
  "nbformat": 4,
  "nbformat_minor": 0,
  "metadata": {
    "colab": {
      "provenance": [],
      "gpuType": "T4"
    },
    "kernelspec": {
      "name": "python3",
      "display_name": "Python 3"
    },
    "language_info": {
      "name": "python"
    },
    "accelerator": "GPU"
  },
  "cells": [
    {
      "cell_type": "markdown",
      "source": [
        "Mount Drive"
      ],
      "metadata": {
        "id": "-0enxJQ7j0H_"
      }
    },
    {
      "cell_type": "code",
      "source": [
        "from google.colab import drive\n",
        "drive.mount('/content/drive')"
      ],
      "metadata": {
        "colab": {
          "base_uri": "https://localhost:8080/"
        },
        "id": "fe86DQKBP7UN",
        "outputId": "4aff7e85-e44c-4877-b850-9931aab38bc4"
      },
      "execution_count": null,
      "outputs": [
        {
          "output_type": "stream",
          "name": "stdout",
          "text": [
            "Mounted at /content/drive\n"
          ]
        }
      ]
    },
    {
      "cell_type": "markdown",
      "source": [
        "Preprocess Training and Testing Data"
      ],
      "metadata": {
        "id": "x_tY2FOPj7iJ"
      }
    },
    {
      "cell_type": "code",
      "execution_count": null,
      "metadata": {
        "id": "8QQHQ1WjNKx6"
      },
      "outputs": [],
      "source": [
        "import os\n",
        "import cv2\n",
        "import numpy as np\n",
        "import matplotlib.pyplot as plt\n",
        "import seaborn as sns\n",
        "from skimage.feature import hog\n",
        "from sklearn.svm import SVC\n",
        "from sklearn.decomposition import PCA\n",
        "from sklearn.model_selection import GridSearchCV\n",
        "from sklearn.metrics import accuracy_score, confusion_matrix, classification_report\n",
        "from sklearn.utils import shuffle\n",
        "from keras.preprocessing.image import ImageDataGenerator\n",
        "from imblearn.over_sampling import SMOTE\n"
      ]
    },
    {
      "cell_type": "markdown",
      "source": [
        "Load and Preprocess Data"
      ],
      "metadata": {
        "id": "cJ9aHrS_kNK2"
      }
    },
    {
      "cell_type": "code",
      "source": [
        "def load_images(folder_path, image_size):\n",
        "    images = []\n",
        "    for filename in os.listdir(folder_path):\n",
        "        image = cv2.imread(os.path.join(folder_path, filename))\n",
        "        if image is not None:\n",
        "            gray_image = cv2.cvtColor(image, cv2.COLOR_BGR2GRAY)\n",
        "            resized_image = cv2.resize(gray_image, (image_size, image_size))\n",
        "            images.append(resized_image.flatten())\n",
        "    return images\n",
        "\n",
        "def preprocess_data(data_path, image_size):\n",
        "    training_data = {}\n",
        "    testing_data = {}\n",
        "    for tumor_type in ['pituitary_tumor', 'meningioma_tumor', 'glioma_tumor', 'no_tumor']:\n",
        "        training_images = load_images(os.path.join(data_path, 'Training', tumor_type), image_size)\n",
        "        testing_images = load_images(os.path.join(data_path, 'Testing', tumor_type), image_size)\n",
        "        training_data[tumor_type] = training_images\n",
        "        testing_data[tumor_type] = testing_images\n",
        "    return training_data, testing_data\n"
      ],
      "metadata": {
        "id": "NCplGuUuI5-C"
      },
      "execution_count": null,
      "outputs": []
    },
    {
      "cell_type": "markdown",
      "source": [
        "Extract Features"
      ],
      "metadata": {
        "id": "aClVt1EgkUsl"
      }
    },
    {
      "cell_type": "code",
      "source": [
        "def extract_features(image, image_size):\n",
        "    reshaped_image = np.reshape(image, (image_size, image_size))\n",
        "    features = hog(\n",
        "        reshaped_image,\n",
        "        pixels_per_cell=(8, 8),\n",
        "        cells_per_block=(2, 2),\n",
        "        visualize=False\n",
        "    )\n",
        "    return features\n"
      ],
      "metadata": {
        "id": "kKXBzi_aI9Pd"
      },
      "execution_count": null,
      "outputs": []
    },
    {
      "cell_type": "markdown",
      "source": [
        "Preprocess Training and Testing Data"
      ],
      "metadata": {
        "id": "9ZOMqs6MkYFI"
      }
    },
    {
      "cell_type": "code",
      "source": [
        "data_path = '/content/drive/MyDrive/Colab Notebooks/dataset'\n",
        "image_size = 256\n",
        "training_data, testing_data = preprocess_data(data_path, image_size)\n",
        "\n",
        "training_features = []\n",
        "training_labels = []\n",
        "for tumor_type, images in training_data.items():\n",
        "    features = [extract_features(image, image_size) for image in images]\n",
        "    training_features.extend(features)\n",
        "    training_labels.extend([tumor_type] * len(features))\n"
      ],
      "metadata": {
        "id": "UrMneWv6DJUE"
      },
      "execution_count": null,
      "outputs": []
    },
    {
      "cell_type": "markdown",
      "source": [
        "Dimensionality Reduction and Augmentation\n"
      ],
      "metadata": {
        "id": "0gqO_QeYkfkp"
      }
    },
    {
      "cell_type": "code",
      "source": [
        "pca = PCA(n_components=50)\n",
        "training_features_reduced = pca.fit_transform(training_features)\n",
        "\n",
        "data_gen = ImageDataGenerator(\n",
        "    rotation_range=10,\n",
        "    width_shift_range=0.1,\n",
        "    height_shift_range=0.1,\n",
        "    shear_range=0.1,\n",
        "    zoom_range=0.1,\n",
        "    horizontal_flip=True\n",
        ")\n",
        "\n",
        "augmented_training_images = []\n",
        "augmented_training_labels = []\n",
        "\n",
        "for tumor_type, images in training_data.items():\n",
        "    for image in images:\n",
        "        reshaped_image = np.reshape(image, (image_size, image_size, 1))\n",
        "        reshaped_image = np.expand_dims(reshaped_image, axis=0)\n",
        "\n",
        "        flow = data_gen.flow(\n",
        "            reshaped_image,\n",
        "            batch_size=1,\n",
        "            seed=42\n",
        "        )\n",
        "\n",
        "        augmented_images = [next(flow)[0].flatten() for _ in range(5)]\n",
        "        augmented_training_images.extend(augmented_images)\n",
        "        augmented_training_labels.extend([tumor_type] * len(augmented_images))\n"
      ],
      "metadata": {
        "id": "-mapO83gKG10"
      },
      "execution_count": null,
      "outputs": []
    },
    {
      "cell_type": "markdown",
      "source": [
        "SMOTE and SVM\n"
      ],
      "metadata": {
        "id": "2zGC6nFqki91"
      }
    },
    {
      "cell_type": "code",
      "source": [
        "smote = SMOTE()\n",
        "X_resampled, y_resampled = smote.fit_resample(training_features_reduced, training_labels)\n",
        "\n",
        "param_grid = {\n",
        "    'kernel': ['linear', 'rbf'],\n",
        "    'C': [0.1, 1, 10, 100],\n",
        "    'gamma': ['scale', 'auto']\n",
        "}\n",
        "\n",
        "grid_search = GridSearchCV(\n",
        "    SVC(),\n",
        "    param_grid,\n",
        "    scoring='accuracy',\n",
        "    cv=5\n",
        ")\n",
        "\n",
        "grid_search.fit(X_resampled, y_resampled)\n",
        "classifier = grid_search.best_estimator_\n",
        "\n",
        "print(\"Best parameters:\", grid_search.best_params_)\n"
      ],
      "metadata": {
        "id": "DF1xRfTLHgUz",
        "colab": {
          "base_uri": "https://localhost:8080/"
        },
        "outputId": "ca11c964-3b24-4e91-df46-b467126570e8"
      },
      "execution_count": null,
      "outputs": [
        {
          "output_type": "stream",
          "name": "stdout",
          "text": [
            "Best parameters: {'C': 10, 'gamma': 'auto', 'kernel': 'rbf'}\n"
          ]
        }
      ]
    },
    {
      "cell_type": "markdown",
      "source": [
        "Predict and Evaluate\n"
      ],
      "metadata": {
        "id": "9WyNxodEkp4p"
      }
    },
    {
      "cell_type": "code",
      "source": [
        "testing_features = []\n",
        "testing_labels = []\n",
        "\n",
        "for tumor_type, images in testing_data.items():\n",
        "    if not images:\n",
        "        print(f\"No images found for {tumor_type}.\")\n",
        "        continue\n",
        "\n",
        "    features = [extract_features(image, image_size) for image in images]\n",
        "    if not features:\n",
        "        print(f\"No features extracted for {tumor_type}.\")\n",
        "        continue\n",
        "\n",
        "    try:\n",
        "        if len(features) > 0 and isinstance(features[0], np.ndarray):\n",
        "            features = np.array(features).reshape(len(features), -1)\n",
        "\n",
        "        reduced_features = pca.transform(features)\n",
        "        testing_features.extend(reduced_features)\n",
        "        testing_labels.extend([tumor_type] * len(reduced_features))\n",
        "    except Exception as e:\n",
        "        print(f\"Error applying PCA for {tumor_type}: {e}\")\n",
        "\n",
        "if not testing_features or not testing_labels:\n",
        "    raise ValueError(\"No valid test data for prediction.\")\n",
        "\n",
        "predictions = classifier.predict(testing_features)\n",
        "\n",
        "accuracy = accuracy_score(testing_labels, predictions)\n",
        "print(\"Test Accuracy:\", accuracy * 100)"
      ],
      "metadata": {
        "id": "TvfFIwEk-5sp",
        "colab": {
          "base_uri": "https://localhost:8080/"
        },
        "outputId": "d3e8b479-96d0-439a-fd5d-7692d0ab7788"
      },
      "execution_count": null,
      "outputs": [
        {
          "output_type": "stream",
          "name": "stdout",
          "text": [
            "Test Accuracy: 76.14213197969542\n"
          ]
        }
      ]
    },
    {
      "cell_type": "markdown",
      "source": [
        "Confusion Matrix and Classification Report\n"
      ],
      "metadata": {
        "id": "mOlDlrPUktuu"
      }
    },
    {
      "cell_type": "code",
      "source": [
        "conf_matrix = confusion_matrix(testing_labels, predictions)\n",
        "sns.heatmap(\n",
        "    conf_matrix,\n",
        "    annot=True,\n",
        "    fmt='d',\n",
        "    cmap='Blues',\n",
        "    xticklabels=['Pituitary', 'Meningioma', 'Glioma', 'No Tumor'],\n",
        "    yticklabels=['Pituitary', 'Meningioma', 'Glioma', 'No Tumor']\n",
        ")\n",
        "plt.xlabel('Predicted')\n",
        "plt.ylabel('True')\n",
        "plt.title('Confusion Matrix')\n",
        "plt.show()\n",
        "\n",
        "classification_report_str = classification_report(\n",
        "    testing_labels,\n",
        "    predictions,\n",
        "    target_names=['Pituitary', 'Meningioma', 'Glioma', 'No Tumor']\n",
        ")\n",
        "print(\"Classification Report:\")\n",
        "print(classification_report_str)\n"
      ],
      "metadata": {
        "id": "qsWOgFnSk5Nz",
        "colab": {
          "base_uri": "https://localhost:8080/",
          "height": 680
        },
        "outputId": "3e388dd7-0ecc-4512-a099-0d7f3063b24e"
      },
      "execution_count": null,
      "outputs": [
        {
          "output_type": "display_data",
          "data": {
            "text/plain": [
              "<Figure size 640x480 with 2 Axes>"
            ],
            "image/png": "[encoded data removed]"
          },
          "metadata": {}
        },
        {
          "output_type": "stream",
          "name": "stdout",
          "text": [
            "Classification Report:\n",
            "              precision    recall  f1-score   support\n",
            "\n",
            "   Pituitary       1.00      0.18      0.31       100\n",
            "  Meningioma       0.72      0.98      0.83       115\n",
            "      Glioma       0.68      1.00      0.81       105\n",
            "    No Tumor       1.00      0.86      0.93        74\n",
            "\n",
            "    accuracy                           0.76       394\n",
            "   macro avg       0.85      0.76      0.72       394\n",
            "weighted avg       0.83      0.76      0.71       394\n",
            "\n"
          ]
        }
      ]
    },
    {
      "cell_type": "code",
      "source": [
        "from tensorflow.keras.models import Sequential\n",
        "from tensorflow.keras.layers import Dense\n",
        "\n",
        "# Convert SVM classifier into a simple neural network\n",
        "model = Sequential([\n",
        "    Dense(units=num_support_vectors, input_dim=num_features, activation='relu'),\n",
        "    Dense(units=32, activation='relu'),\n",
        "    Dense(units=1, activation='sigmoid')\n",
        "])\n",
        "\n",
        "# Compile the model\n",
        "model.compile(optimizer='adam',\n",
        "              loss='binary_crossentropy',\n",
        "              metrics=['accuracy'])\n",
        "\n",
        "# Transpose the support vectors to match the expected input shape of the first layer\n",
        "support_vectors = classifier.support_vectors_\n",
        "num_support_vectors = support_vectors.shape[0]\n",
        "num_features = support_vectors.shape[1]\n",
        "\n",
        "# Reshape the support vectors to match the expected input shape of the first layer\n",
        "reshaped_support_vectors = support_vectors.T\n",
        "\n",
        "# Set the weights and biases of the first layer\n",
        "model.layers[0].set_weights([reshaped_support_vectors, classifier.dual_coef_[0]])\n",
        "\n",
        "# Save the model as H5 file\n",
        "model.save('/content/drive/MyDrive/Colab Notebooks/svm_classifier.h5')\n"
      ],
      "metadata": {
        "colab": {
          "base_uri": "https://localhost:8080/"
        },
        "id": "pwyknKp2uapC",
        "outputId": "29132538-1057-43dc-a5b8-cd6e4c63476f"
      },
      "execution_count": null,
      "outputs": [
        {
          "output_type": "stream",
          "name": "stderr",
          "text": [
            "/usr/local/lib/python3.10/dist-packages/keras/src/engine/training.py:3103: UserWarning: You are saving your model as an HDF5 file via `model.save()`. This file format is considered legacy. We recommend using instead the native Keras format, e.g. `model.save('my_model.keras')`.\n",
            "  saving_api.save_model(\n"
          ]
        }
      ]
    },
    {
      "cell_type": "code",
      "source": [
        "\n",
        "# Convert the model to TensorFlow.js format\n",
        "!tensorflowjs_converter --input_format keras '/content/drive/MyDrive/Colab Notebooks/svm_classifier.h5' '/content/mnist-model'\n"
      ],
      "metadata": {
        "colab": {
          "base_uri": "https://localhost:8080/"
        },
        "id": "RqeZ480_wrMB",
        "outputId": "05520e5a-3592-445d-a213-807501059659"
      },
      "execution_count": null,
      "outputs": [
        {
          "output_type": "stream",
          "name": "stdout",
          "text": [
            "2024-05-02 05:28:28.283847: W tensorflow/compiler/tf2tensorrt/utils/py_utils.cc:38] TF-TRT Warning: Could not find TensorRT\n",
            "usage: TensorFlow.js model converters. [-h]\n",
            "                                       [--input_format {keras_saved_model,tfjs_layers_model,keras,tf_frozen_model,tf_hub,keras_keras,tf_saved_model}]\n",
            "                                       [--output_format {keras_saved_model,tfjs_layers_model,tfjs_graph_model,keras_keras,keras}]\n",
            "                                       [--signature_name SIGNATURE_NAME]\n",
            "                                       [--saved_model_tags SAVED_MODEL_TAGS]\n",
            "                                       [--quantize_float16 [QUANTIZE_FLOAT16]]\n",
            "                                       [--quantize_uint8 [QUANTIZE_UINT8]]\n",
            "                                       [--quantize_uint16 [QUANTIZE_UINT16]]\n",
            "                                       [--quantization_bytes {1,2}] [--split_weights_by_layer]\n",
            "                                       [--version] [--skip_op_check]\n",
            "                                       [--strip_debug_ops STRIP_DEBUG_OPS]\n",
            "                                       [--use_structured_outputs_names USE_STRUCTURED_OUTPUTS_NAMES]\n",
            "                                       [--weight_shard_size_bytes WEIGHT_SHARD_SIZE_BYTES]\n",
            "                                       [--output_node_names OUTPUT_NODE_NAMES]\n",
            "                                       [--control_flow_v2 CONTROL_FLOW_V2]\n",
            "                                       [--experiments EXPERIMENTS] [--metadata METADATA]\n",
            "                                       [input_path] [output_path]\n",
            "TensorFlow.js model converters.: error: unrecognized arguments: /content/mnist-model\n"
          ]
        }
      ]
    },
    {
      "cell_type": "code",
      "source": [
        "import joblib\n",
        "\n",
        "\n",
        "# After training the model (after the grid_search.fit() call)\n",
        "classifier = grid_search.best_estimator_\n",
        "\n",
        "# Save the trained model to Google Drive\n",
        "model_file = '/content/drive/MyDrive/Colab Notebooks/dataset/svc_model.pkl'  # Set the path where you want to save the model\n",
        "joblib.dump(classifier, model_file)\n",
        "\n",
        "# Print the path to the saved model file\n",
        "print(\"Model saved to:\", model_file)\n"
      ],
      "metadata": {
        "colab": {
          "base_uri": "https://localhost:8080/"
        },
        "id": "3Xr_Up-HzOem",
        "outputId": "c725c391-692b-4658-9462-adbf04ae2042"
      },
      "execution_count": null,
      "outputs": [
        {
          "output_type": "stream",
          "name": "stdout",
          "text": [
            "Model saved to: /content/drive/MyDrive/Colab Notebooks/dataset/svc_model.pkl\n"
          ]
        }
      ]
    }
  ]
}